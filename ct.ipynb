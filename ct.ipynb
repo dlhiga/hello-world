{
 "cells": [
  {
   "cell_type": "markdown",
   "metadata": {},
   "source": [
    "## Leaf Group - Technical Assesment Quiz\n",
    "#### Candidate: Darren Higa"
   ]
  },
  {
   "cell_type": "markdown",
   "metadata": {},
   "source": [
    "### Data Science\n",
    "***You fit a model to a set of training data and it achieves 80 accuracy. You put the model into production and it achieves 60% accuracy. Why? List as many reasons as you can think of.***\n",
    "\n"
   ]
  },
  {
   "cell_type": "markdown",
   "metadata": {},
   "source": [
    "\n",
    "  When the accuracy of a model is significantly less than the results produced with the training data set, this could be an indication of overfitting.  Some reaons that this might occur:\n",
    "  \n",
    "1.  The training data set is **not large enough** to account for the vast majority of the types of cases in the real world (i.e. production).\n",
    "2.  The training data is **not timely**.  Certain types of data (like consumer choice or consumer behavior) may change rapidly and the training data may represent information from a year ago (or prior) which may have little to no relevance to the target being predicted. \n",
    "3.  There could be **data-gathering** issues from production.  Bugs in the production code could be limiting the gathering or mishandling the production data.\n",
    "4.  Several **new values or labels** could be coming into the production data set due to open-ended data items (i.e. from a textbox or from new versions of an application or web page).  This could present some issues, especially if this data is for key features used by the model.\n",
    "\n",
    "\n"
   ]
  },
  {
   "cell_type": "markdown",
   "metadata": {},
   "source": [
    "***You have a set of data for a consumer bank which includes information about account activity and whether or not that account was closed. Your boss tells you to make a model of churn to predict whose account may close soon. You are told to use either xgboost or deep learning. What do you choose and why?***"
   ]
  },
  {
   "cell_type": "markdown",
   "metadata": {},
   "source": [
    "  Deep learning is primarily used with human generated, unstructured data such as digital images, video, voice, etc.  For predicting customer churn at a consumer bank, the data provided here is more structured, likely provided in a tabular format.  In addition, this is a binary classification problem (either the account with close or stay open).  I would choose XGBoost as my understanding is that it's a good candidate for this type of data and prediction problem.  "
   ]
  },
  {
   "cell_type": "markdown",
   "metadata": {},
   "source": [
    "### General & Web"
   ]
  },
  {
   "cell_type": "markdown",
   "metadata": {},
   "source": [
    "***What happens when you enter a search phrase on google.com? Summarize in 3-5 sentences.***"
   ]
  },
  {
   "cell_type": "markdown",
   "metadata": {},
   "source": [
    "When you type a search into a search bar at Google.com, the first thing that happens is an analysis of the text being typed (key word/phrase recognition, etc.).  From the Google Index, Google retrieves the webpages which match or closely match the search terms that were parsed from the search entry.  Given the huge multitude of possible results, Google must then determine the relevancy of the results in order to present the most relevant results to the user.  One of the factors used to determine relevancy is Google’s well-known PageRank.  Google uses several other factors such as user location, language, etc. to help determine the both the *relevancy* and *context* of the search."
   ]
  },
  {
   "cell_type": "markdown",
   "metadata": {},
   "source": [
    "### Coding & Python"
   ]
  },
  {
   "cell_type": "markdown",
   "metadata": {},
   "source": [
    "***Create a function to convert an integer in base 8 to base 10***"
   ]
  },
  {
   "cell_type": "code",
   "execution_count": 1,
   "metadata": {},
   "outputs": [
    {
     "name": "stdout",
     "output_type": "stream",
     "text": [
      "\n",
      "The base 8 number for conversion is:  137\n",
      "Base 8: 137  is equivalent to base 10: 95\n",
      "\n",
      "The base 8 number for conversion is:  114.5\n",
      "The value  114.5  is not a valid integer!\n",
      "\n",
      "The base 8 number for conversion is:  234864\n",
      "This is not a valid base 8 integer!\n",
      "\n",
      "The base 8 number for conversion is:  234764\n",
      "Base 8: 234764  is equivalent to base 10: 80372\n"
     ]
    }
   ],
   "source": [
    "def octaldecimal(num):\n",
    "    i = 0\n",
    "    baseten = 0\n",
    "    \n",
    "    if isinstance(num, int) == False:           # Check that input is an integer\n",
    "        print('The value ',num,' is not a valid integer!')\n",
    "        return -999\n",
    "    \n",
    "    digits = [int(x) for x in str(num)]         # Get each digit and put it into a list\n",
    "\n",
    "    for digit in digits[::-1]:                  # Loop on each digit from right to left\n",
    "        if (digit >=0) and (digit <= 7):\n",
    "            baseten += digit * 8**i             # Multiply each digit by appropriate power of 8\n",
    "        else:                                   # Error handling for invalid digits\n",
    "            print ('This is not a valid base 8 integer!')\n",
    "            return -999\n",
    "        i += 1                                  # Increment to next power of 8\n",
    "    return baseten\n",
    "\n",
    "\n",
    "# Run sample test cases:\n",
    "\n",
    "base8 = 137\n",
    "print()\n",
    "print('The base 8 number for conversion is: ',base8)\n",
    "base10 = octaldecimal(base8)\n",
    "if base10 != -999:\n",
    "    print ('Base 8:', base8,' is equivalent to base 10:',base10)\n",
    "    \n",
    "base8 = 114.50\n",
    "print()\n",
    "print('The base 8 number for conversion is: ',base8)\n",
    "base10 = octaldecimal(base8)\n",
    "if base10 != -999:\n",
    "    print ('Base 8:', base8,' is equivalent to base 10:',base10)\n",
    "    \n",
    "base8 = 234864\n",
    "print()\n",
    "print('The base 8 number for conversion is: ',base8)\n",
    "base10 = octaldecimal(base8)\n",
    "if base10 != -999:\n",
    "    print ('Base 8:', base8,' is equivalent to base 10:',base10)\n",
    "    \n",
    "base8 = 234764\n",
    "print()\n",
    "print('The base 8 number for conversion is: ',base8)\n",
    "base10 = octaldecimal(base8)\n",
    "if base10 != -999:\n",
    "    print ('Base 8:', base8,' is equivalent to base 10:',base10)"
   ]
  },
  {
   "cell_type": "markdown",
   "metadata": {},
   "source": [
    "***Create a function to convert a base 10 (decimal) number to octal (base 8)***"
   ]
  },
  {
   "cell_type": "code",
   "execution_count": 2,
   "metadata": {},
   "outputs": [
    {
     "name": "stdout",
     "output_type": "stream",
     "text": [
      "\n",
      "The base 10 number for conversion is:  95\n",
      "Base 10: 95  is equivalent to base 8: 137\n",
      "\n",
      "The base 10 number for conversion is:  1378\n",
      "Base 10: 1378  is equivalent to base 8: 2542\n",
      "\n",
      "The base 10 number for conversion is:  80372\n",
      "Base 10: 80372  is equivalent to base 8: 234764\n"
     ]
    }
   ],
   "source": [
    "def decimaloctal(num):\n",
    "\n",
    "    i = 0\n",
    "    base8 = 0\n",
    "    while num > 0:\n",
    "        remainder = num % 8 \n",
    "        num = num // 8 \n",
    "        base8 += remainder * 10**i\n",
    "        i += 1\n",
    "    return base8\n",
    "\n",
    "# Run sample test cases:\n",
    "\n",
    "base10 = 95\n",
    "print()\n",
    "print('The base 10 number for conversion is: ',base10)\n",
    "base8 = decimaloctal(base10)\n",
    "if base8 != -999:\n",
    "    print ('Base 10:', base10,' is equivalent to base 8:',base8)\n",
    "    \n",
    "base10 = 1378\n",
    "print()\n",
    "print('The base 10 number for conversion is: ',base10)\n",
    "base8 = decimaloctal(base10)\n",
    "if base8 != -999:\n",
    "    print ('Base 10:', base10,' is equivalent to base 8:',base8)\n",
    "    \n",
    "base10 = 80372\n",
    "print()\n",
    "print('The base 10 number for conversion is: ',base10)\n",
    "base8 = decimaloctal(base10)\n",
    "if base8 != -999:\n",
    "    print ('Base 10:', base10,' is equivalent to base 8:',base8)\n",
    "    "
   ]
  },
  {
   "cell_type": "markdown",
   "metadata": {},
   "source": [
    "***Write a function that will return every permutation of inclusion for elements of a list.***"
   ]
  },
  {
   "cell_type": "code",
   "execution_count": 3,
   "metadata": {},
   "outputs": [
    {
     "name": "stdout",
     "output_type": "stream",
     "text": [
      "Result List 1:\n",
      "[[], [1], [2], [3], [4], [5], [1, 2], [1, 3], [1, 4], [1, 5], [2, 3], [2, 4], [2, 5], [3, 4], [3, 5], [4, 5], [1, 2, 3], [1, 2, 4], [1, 2, 5], [1, 3, 4], [1, 3, 5], [1, 4, 5], [2, 3, 4], [2, 3, 5], [2, 4, 5], [3, 4, 5], [1, 2, 3, 4], [1, 2, 3, 5], [1, 2, 4, 5], [1, 3, 4, 5], [2, 3, 4, 5], [1, 2, 3, 4, 5]]\n",
      "\n",
      "Result List 2:\n",
      "[[], [1], [3], [5], ['x'], ['y'], ['z'], [1, 3], [1, 5], [1, 'x'], [1, 'y'], [1, 'z'], [3, 5], [3, 'x'], [3, 'y'], [3, 'z'], [5, 'x'], [5, 'y'], [5, 'z'], ['x', 'y'], ['x', 'z'], ['y', 'z'], [1, 3, 5], [1, 3, 'x'], [1, 3, 'y'], [1, 3, 'z'], [1, 5, 'x'], [1, 5, 'y'], [1, 5, 'z'], [1, 'x', 'y'], [1, 'x', 'z'], [1, 'y', 'z'], [3, 5, 'x'], [3, 5, 'y'], [3, 5, 'z'], [3, 'x', 'y'], [3, 'x', 'z'], [3, 'y', 'z'], [5, 'x', 'y'], [5, 'x', 'z'], [5, 'y', 'z'], ['x', 'y', 'z'], [1, 3, 5, 'x'], [1, 3, 5, 'y'], [1, 3, 5, 'z'], [1, 3, 'x', 'y'], [1, 3, 'x', 'z'], [1, 3, 'y', 'z'], [1, 5, 'x', 'y'], [1, 5, 'x', 'z'], [1, 5, 'y', 'z'], [1, 'x', 'y', 'z'], [3, 5, 'x', 'y'], [3, 5, 'x', 'z'], [3, 5, 'y', 'z'], [3, 'x', 'y', 'z'], [5, 'x', 'y', 'z'], [1, 3, 5, 'x', 'y'], [1, 3, 5, 'x', 'z'], [1, 3, 5, 'y', 'z'], [1, 3, 'x', 'y', 'z'], [1, 5, 'x', 'y', 'z'], [3, 5, 'x', 'y', 'z'], [1, 3, 5, 'x', 'y', 'z']]\n",
      "\n",
      "Result List 3:\n",
      "[[], ['cat'], ['dog'], ['cow'], ['mouse'], ['cat', 'dog'], ['cat', 'cow'], ['cat', 'mouse'], ['dog', 'cow'], ['dog', 'mouse'], ['cow', 'mouse'], ['cat', 'dog', 'cow'], ['cat', 'dog', 'mouse'], ['cat', 'cow', 'mouse'], ['dog', 'cow', 'mouse'], ['cat', 'dog', 'cow', 'mouse']]\n"
     ]
    }
   ],
   "source": [
    "# To find all of the possible permutations, I would use itertools.combinations and to find\n",
    "# all of the combinations of size i (from 0 to the size of the list).  Combining all of these\n",
    "# results will provide the final list of permutations.\n",
    "\n",
    "from itertools import combinations\n",
    "\n",
    "def allsublists(lst):           \n",
    "    resultlst = []\n",
    "    \n",
    "    for i in range(len(lst)+1):\n",
    "        combinationtuples = list(combinations(lst,i))\n",
    "        combinationlist = [list(elem) for elem in combinationtuples]  # Convert to list of lists\n",
    "        resultlst.extend(combinationlist)\n",
    "\n",
    "    return resultlst\n",
    "    \n",
    "## Test the function on sample lists.\n",
    "\n",
    "permutationlist = allsublists([1,2,3,4,5])\n",
    "print('Result List 1:')\n",
    "print(permutationlist)\n",
    "print()\n",
    "\n",
    "permutationlist = allsublists([1,3,5,'x','y','z'])\n",
    "print('Result List 2:')\n",
    "print(permutationlist)\n",
    "print()\n",
    "\n",
    "permutationlist = allsublists(['cat','dog','cow','mouse'])\n",
    "print('Result List 3:')\n",
    "print(permutationlist)\n",
    "\n"
   ]
  }
 ],
 "metadata": {
  "kernelspec": {
   "display_name": "Python 3",
   "language": "python",
   "name": "python3"
  },
  "language_info": {
   "codemirror_mode": {
    "name": "ipython",
    "version": 3
   },
   "file_extension": ".py",
   "mimetype": "text/x-python",
   "name": "python",
   "nbconvert_exporter": "python",
   "pygments_lexer": "ipython3",
   "version": "3.6.3"
  }
 },
 "nbformat": 4,
 "nbformat_minor": 2
}
